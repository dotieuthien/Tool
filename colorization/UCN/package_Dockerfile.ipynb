{
 "cells": [
  {
   "cell_type": "code",
   "execution_count": 5,
   "id": "e18bb6aa",
   "metadata": {
    "scrolled": true
   },
   "outputs": [
    {
     "name": "stdout",
     "output_type": "stream",
     "text": [
      "env: dockerfile=Dockerfile\n",
      "env: account=842977422697\n",
      "env: region=us-west-2\n",
      "env: repo_name=sagemaker-hades\n",
      "env: image_tag=hades01\n"
     ]
    }
   ],
   "source": [
    "import sagemaker\n",
    "sess = sagemaker.Session()\n",
    "role = \"arn:aws:iam::842977422697:role/SageMaker_Cinnamon_role\"\n",
    "account = sess.boto_session.client('sts').get_caller_identity()['Account']\n",
    "region = sess.boto_session.region_name\n",
    "\n",
    "# ECR repository\n",
    "repo_name = 'sagemaker-hades' \n",
    "# local + ECR image tag\n",
    "image_tag = 'hades01'\n",
    "\n",
    "%env dockerfile Dockerfile\n",
    "%env account {account}\n",
    "%env region {region}\n",
    "%env repo_name {repo_name}\n",
    "%env image_tag {image_tag}"
   ]
  },
  {
   "cell_type": "code",
   "execution_count": 18,
   "id": "bc5ecf28",
   "metadata": {},
   "outputs": [],
   "source": [
    "%%bash\n",
    "\n",
    "aws ecr describe-repositories --repository-names sagemaker-hades > /dev/null 2>&1\n",
    "if [ $? -ne 0 ]\n",
    "then\n",
    "    aws ecr create-repository --repository-name sagemaker-hades > /dev/null\n",
    "fi"
   ]
  },
  {
   "cell_type": "code",
   "execution_count": 20,
   "id": "19417ef2",
   "metadata": {},
   "outputs": [
    {
     "name": "stdout",
     "output_type": "stream",
     "text": [
      "Login Succeeded\n"
     ]
    },
    {
     "name": "stderr",
     "output_type": "stream",
     "text": [
      "WARNING! Your password will be stored unencrypted in /home/hades/.docker/config.json.\n",
      "Configure a credential helper to remove this warning. See\n",
      "https://docs.docker.com/engine/reference/commandline/login/#credentials-store\n",
      "\n"
     ]
    }
   ],
   "source": [
    "%%bash\n",
    "\n",
    "aws ecr get-login-password --region us-west-2 | docker login --username AWS --password-stdin 842977422697.dkr.ecr.us-west-2.amazonaws.com"
   ]
  },
  {
   "cell_type": "code",
   "execution_count": 12,
   "id": "b72a6502",
   "metadata": {},
   "outputs": [
    {
     "name": "stderr",
     "output_type": "stream",
     "text": [
      "'docker' is not recognized as an internal or external command,\n",
      "operable program or batch file.\n",
      "'docker' is not recognized as an internal or external command,\n",
      "operable program or batch file.\n"
     ]
    }
   ],
   "source": [
    "!docker build -t $image_tag -f $dockerfile .\n",
    "!docker tag $image_tag $account.dkr.ecr.$region.amazonaws.com/$repo_name:$image_tag"
   ]
  },
  {
   "cell_type": "code",
   "execution_count": null,
   "id": "ef25bbd5",
   "metadata": {},
   "outputs": [],
   "source": [
    "!docker push $account.dkr.ecr.$region.amazonaws.com/$repo_name:$image_tag"
   ]
  }
 ],
 "metadata": {
  "kernelspec": {
   "display_name": "Python 3",
   "language": "python",
   "name": "python3"
  },
  "language_info": {
   "codemirror_mode": {
    "name": "ipython",
    "version": 3
   },
   "file_extension": ".py",
   "mimetype": "text/x-python",
   "name": "python",
   "nbconvert_exporter": "python",
   "pygments_lexer": "ipython3",
   "version": "3.6.13"
  }
 },
 "nbformat": 4,
 "nbformat_minor": 5
}
